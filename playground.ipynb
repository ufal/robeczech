{
 "cells": [
  {
   "cell_type": "code",
   "execution_count": 1,
   "id": "changing-relay",
   "metadata": {},
   "outputs": [
    {
     "name": "stdout",
     "output_type": "stream",
     "text": [
      "/lnet/ms/projects/robeczech/checkpoints/eol-210223\n"
     ]
    }
   ],
   "source": [
    "%cd /net/projects/robeczech/checkpoints/eol-210223"
   ]
  },
  {
   "cell_type": "code",
   "execution_count": 2,
   "id": "interracial-physics",
   "metadata": {},
   "outputs": [
    {
     "name": "stdout",
     "output_type": "stream",
     "text": [
      "{'input_ids': [0, 1016, 12, 599, 509, 314, 635, 32, 4, 2], 'attention_mask': [1, 1, 1, 1, 1, 1, 1, 1, 1, 1]}\n",
      "Decoding: Praha je hlavní město České republiky.\n"
     ]
    }
   ],
   "source": [
    "# Simple tokenizer example\n",
    "\n",
    "import os\n",
    "import sys\n",
    "\n",
    "from tokenizer import robeczech_tokenizer\n",
    "\n",
    "tokenizer = robeczech_tokenizer.RobeCzechTokenizer(\"tokenizer\")\n",
    "\n",
    "for line in [\"Praha je hlavní město České republiky.\"]:\n",
    "    encoded = tokenizer.encode(line.strip())\n",
    "    print(encoded)\n",
    "    print(\"Decoding:\", tokenizer.decode(encoded[\"input_ids\"]))"
   ]
  },
  {
   "cell_type": "code",
   "execution_count": 3,
   "id": "fourth-berry",
   "metadata": {},
   "outputs": [
    {
     "name": "stdout",
     "output_type": "stream",
     "text": [
      "[[   0 1016   12  599  509  314  635    4    2]]\n",
      "Original='Praha'\n",
      "  Praha Pražská  Praha Ostrava Pražský Olomouc Brno Jihlava Pražské Bratislava PRAHA Město Plzeň Vídeň Paříž To\n",
      "  Praha Ostrava Brno Liberec Kladno Jihlava Pardubice Olomouc To Plzeň Opava Jablonec Co Město Karviná Budějovice\n",
      "Original=' je'\n",
      "   je  není  jsou  -  bude  JE  se  být  1  to  má  – je  bylo  2  v\n",
      "   -  ,  jako  je  –  /  pro  :  1  za  a  4  má  na  Praha  3\n",
      "Original=' hlavní'\n",
      "   hlavní  Hlavní  ústřední  největší  hlavním  hlavního  okresní  horní  nejvyšší  celé  vrchní  významné  nejvýznamnější  krajské  centrální Hlavní\n",
      "   hlavní  největší  krajské  centrální  Hlavní  ústřední  druhé  hlavním  první  nejkrásnější  okresní  hlavního  nejvyšší  jediné  nejbohatší  poslední\n",
      "Original=' město'\n",
      "   město  města  měst  v  Město  městem  centrum  do Město  to  městě  území  městské  m  sídlo  nádraží\n",
      "   město  městem  města  měst  částí  stát  část  metropole  oblastí  bod  součástí  cíl  centrum  obcí  městy  region\n",
      "Original=' České'\n",
      "   České  Česká  Evropské  Českých  Českou  této  české  ČR  Re  Českého  Československé  Slovenské  Če  celé  Bře  Poslanecké\n",
      "   České  Slovenské  celé  Evropské  Československé  naší  české  Karlovy  Jihoafrické  Českých  této  první  prezidenta  Česká  druhé  Masarykovy\n",
      "Original=' republiky'\n",
      "   republiky  země  republice  republika  Česka  Republiky  kraje  ČR  unie  .  Evropy  Prahy  celé  republiku  ekonomiky  Československa\n",
      "   republiky  republice  země  království  Republiky  unie  republika  národní  koruny  .  Evropy  kraje  kultury  inspirace  provincie  republikou\n",
      "Original='[EOL]'\n",
      "  [EOL] [SEP]  .  \"  1  ,  Praha  v  )  ...  2  je  3  to  a [CLS]\n",
      "  [EOL] [SEP]  .  ,  Praha  je  )  ;  a  město  to  1  *  se  má  i\n"
     ]
    }
   ],
   "source": [
    "# Simple TF Usage\n",
    "import numpy as np\n",
    "import tensorflow as tf\n",
    "import transformers\n",
    "\n",
    "from tokenizer import robeczech_tokenizer\n",
    "\n",
    "tokenizer = robeczech_tokenizer.RobeCzechTokenizer(\"tokenizer\")\n",
    "\n",
    "encoded_text = [tokenizer.encode(\"Praha je hlavní město České republiky\")[\"input_ids\"]]\n",
    "encoded_text = np.array(encoded_text)\n",
    "print(encoded_text)\n",
    "\n",
    "# It is possible to use TFAutoModel or any other TFAutoModel* variant\n",
    "model = transformers.TFAutoModelWithLMHead.from_pretrained(\"tf\")\n",
    "\n",
    "for mask in range(1, len(encoded_text[0]) - 1):\n",
    "    original = int(encoded_text[0][mask])\n",
    "    print(\"Original='{}'\".format(tokenizer.decode([original], skip_special_tokens=False)))\n",
    "    for masked in [0, 1]:\n",
    "        if masked:\n",
    "            encoded_text[0][mask] = tokenizer.mask_index\n",
    "\n",
    "        [logits], = model(encoded_text)\n",
    "        argsorted_logits = np.argsort(-logits.numpy(), axis=1)\n",
    "        print(\" \", *[tokenizer.decode([argsorted_logits[mask][i]], skip_special_tokens=False) for i in range(16)])\n",
    "    encoded_text[0][mask] = original\n"
   ]
  },
  {
   "cell_type": "code",
   "execution_count": 4,
   "id": "sealed-compact",
   "metadata": {},
   "outputs": [
    {
     "name": "stdout",
     "output_type": "stream",
     "text": [
      "tensor([[   0, 1016,   12,  599,  509,  314,  635,    4,    2]])\n",
      "Original='Praha'\n",
      "  Praha Pražská  Praha Ostrava Pražský Olomouc Brno Jihlava Pražské Bratislava PRAHA Město Plzeň Vídeň Paříž To\n",
      "  Praha Ostrava Brno Liberec Kladno Jihlava Pardubice Olomouc To Plzeň Opava Jablonec Co Město Karviná Budějovice\n",
      "Original=' je'\n",
      "   je  není  jsou  -  bude  JE  se  být  1  to  má  – je  bylo  2  v\n",
      "   -  ,  jako  je  –  /  pro  :  1  za  a  4  má  na  Praha  3\n",
      "Original=' hlavní'\n",
      "   hlavní  Hlavní  ústřední  největší  hlavním  hlavního  okresní  horní  nejvyšší  celé  vrchní  významné  nejvýznamnější  krajské  centrální Hlavní\n",
      "   hlavní  největší  krajské  centrální  Hlavní  ústřední  druhé  hlavním  první  nejkrásnější  okresní  hlavního  nejvyšší  jediné  nejbohatší  poslední\n",
      "Original=' město'\n",
      "   město  města  měst  v  Město  městem  centrum  do Město  to  městě  území  městské  m  sídlo  nádraží\n",
      "   město  městem  města  měst  částí  stát  část  metropole  oblastí  bod  součástí  cíl  centrum  obcí  městy  region\n",
      "Original=' České'\n",
      "   České  Česká  Evropské  Českých  Českou  této  české  ČR  Re  Českého  Československé  Slovenské  Če  celé  Bře  Poslanecké\n",
      "   České  Slovenské  celé  Evropské  Československé  naší  české  Karlovy  Jihoafrické  Českých  této  první  prezidenta  Česká  druhé  Masarykovy\n",
      "Original=' republiky'\n",
      "   republiky  země  republice  republika  Česka  Republiky  kraje  ČR  unie  .  Evropy  Prahy  celé  republiku  ekonomiky  Československa\n",
      "   republiky  republice  země  království  Republiky  unie  republika  národní  koruny  .  Evropy  kraje  kultury  inspirace  provincie  republikou\n",
      "Original='[EOL]'\n",
      "  [EOL] [SEP]  .  \"  1  ,  Praha  v  )  ...  2  je  3  to  a [CLS]\n",
      "  [EOL] [SEP]  .  ,  Praha  je  )  ;  a  město  to  1  *  se  má  i\n"
     ]
    }
   ],
   "source": [
    "# Simple PyTorch usage\n",
    "import numpy as np\n",
    "import torch\n",
    "import transformers\n",
    "\n",
    "from tokenizer import robeczech_tokenizer\n",
    "\n",
    "tokenizer = robeczech_tokenizer.RobeCzechTokenizer(\"tokenizer\")\n",
    "\n",
    "encoded_text = [tokenizer.encode(\"Praha je hlavní město České republiky\")[\"input_ids\"]]\n",
    "encoded_text = torch.Tensor(encoded_text).to(torch.int64)\n",
    "print(encoded_text)\n",
    "\n",
    "# It is possible to use AutoModel or any other AutoModel* variant\n",
    "model = transformers.AutoModelWithLMHead.from_pretrained(\"pytorch\")\n",
    "\n",
    "for mask in range(1, len(encoded_text[0]) - 1):\n",
    "    original = int(encoded_text[0][mask])\n",
    "    print(\"Original='{}'\".format(tokenizer.decode([original], skip_special_tokens=False)))\n",
    "    for masked in [0, 1]:\n",
    "        if masked:\n",
    "            encoded_text[0][mask] = tokenizer.mask_index\n",
    "\n",
    "        [logits], = model(encoded_text)\n",
    "        argsorted_logits = torch.argsort(logits, dim=1, descending = True).numpy()\n",
    "        print(\" \", *[tokenizer.decode([argsorted_logits[mask][i]], skip_special_tokens=False) for i in range(16)])\n",
    "    encoded_text[0][mask] = original\n"
   ]
  }
 ],
 "metadata": {
  "kernelspec": {
   "display_name": "Python 3",
   "language": "python",
   "name": "python3"
  },
  "language_info": {
   "codemirror_mode": {
    "name": "ipython",
    "version": 3
   },
   "file_extension": ".py",
   "mimetype": "text/x-python",
   "name": "python",
   "nbconvert_exporter": "python",
   "pygments_lexer": "ipython3",
   "version": "3.6.9"
  }
 },
 "nbformat": 4,
 "nbformat_minor": 5
}
